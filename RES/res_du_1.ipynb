{
 "cells": [
  {
   "cell_type": "code",
   "execution_count": 140,
   "metadata": {},
   "outputs": [],
   "source": [
    "import altair as alt\n",
    "import pandas as pd"
   ]
  },
  {
   "cell_type": "code",
   "execution_count": 221,
   "metadata": {},
   "outputs": [],
   "source": [
    "data = pd.read_excel(\"test_data.xlsx\")"
   ]
  },
  {
   "cell_type": "code",
   "execution_count": 222,
   "metadata": {},
   "outputs": [],
   "source": [
    "data[\"Hodina\"] = pd.Series([pd.datetime(year=2017, month=7, day=30, hour=i) for i in range(0,24)])"
   ]
  },
  {
   "cell_type": "code",
   "execution_count": 226,
   "metadata": {},
   "outputs": [],
   "source": [
    "data = data.drop([\"Zatížení bez čerpání PVE\", \"čerpání PVE\", \"Zatížení brutto s čerpáním PVE\", \"Spotřeba brutto bez čerpání PVE\"], 1)"
   ]
  },
  {
   "cell_type": "code",
   "execution_count": 266,
   "metadata": {},
   "outputs": [],
   "source": [
    "melted = data.melt(\"Hodina\", var_name=\"Type\", value_name=\"Amount\")"
   ]
  },
  {
   "cell_type": "code",
   "execution_count": 462,
   "metadata": {},
   "outputs": [],
   "source": [
    "melted[\"Index\"] = melted.index"
   ]
  },
  {
   "cell_type": "code",
   "execution_count": 452,
   "metadata": {},
   "outputs": [],
   "source": [
    "selection = alt.selection_multi(fields=[\"Type\"])"
   ]
  },
  {
   "cell_type": "code",
   "execution_count": 495,
   "metadata": {},
   "outputs": [],
   "source": [
    "scale = alt.Scale(domain=['JE', 'PE', 'PPE + PSE', 'PVE', 'Saldo', \"VE\", \"VTE\", \"FVE\"],\n",
    "                  range=['#c9042e', '#f96909', '#08a00a', '#c605c3', '#636163', \"#1e05ad\", \"#00bded\", \"#fcd40a\"])"
   ]
  },
  {
   "cell_type": "code",
   "execution_count": 496,
   "metadata": {},
   "outputs": [],
   "source": [
    "color = alt.condition(selection,\n",
    "                      alt.Color('Type:N', legend=None, scale=scale),\n",
    "                      alt.value('lightgray'))"
   ]
  },
  {
   "cell_type": "code",
   "execution_count": 497,
   "metadata": {},
   "outputs": [],
   "source": [
    "chart = alt.Chart(melted).mark_bar().encode(\n",
    "    y=alt.Y(\"sum(Amount):Q\", title=\"Zatížení\"),\n",
    "    x=alt.X(\"hoursminutes(Hodina):O\", title=\"Hodina\"),\n",
    "    color=color,\n",
    "    tooltip=[\"Amount\", \"Type\"],\n",
    "    order=alt.Order(\"Index\", sort=\"ascending\")\n",
    ")"
   ]
  },
  {
   "cell_type": "code",
   "execution_count": 498,
   "metadata": {},
   "outputs": [],
   "source": [
    "legend = alt.Chart(melted).mark_bar().encode(\n",
    "    y=alt.Y('Type:N', axis=alt.Axis(orient='right')),\n",
    "    color=color\n",
    ").add_selection(\n",
    "    selection\n",
    ")"
   ]
  },
  {
   "cell_type": "code",
   "execution_count": 499,
   "metadata": {},
   "outputs": [
    {
     "data": {
      "application/vnd.vegalite.v2+json": {
       "$schema": "https://vega.github.io/schema/vega-lite/v2.6.0.json",
       "config": {
        "view": {
         "height": 300,
         "width": 400
        }
       },
       "datasets": {
        "data-3c234a3700e940903a0e72c8e31f2a9e": [
         {
          "Amount": -588,
          "Hodina": "2017-07-30T00:00:00",
          "Index": 0,
          "Type": "Saldo"
         },
         {
          "Amount": -342,
          "Hodina": "2017-07-30T01:00:00",
          "Index": 1,
          "Type": "Saldo"
         },
         {
          "Amount": -129,
          "Hodina": "2017-07-30T02:00:00",
          "Index": 2,
          "Type": "Saldo"
         },
         {
          "Amount": -57,
          "Hodina": "2017-07-30T03:00:00",
          "Index": 3,
          "Type": "Saldo"
         },
         {
          "Amount": 40,
          "Hodina": "2017-07-30T04:00:00",
          "Index": 4,
          "Type": "Saldo"
         },
         {
          "Amount": 102,
          "Hodina": "2017-07-30T05:00:00",
          "Index": 5,
          "Type": "Saldo"
         },
         {
          "Amount": -125,
          "Hodina": "2017-07-30T06:00:00",
          "Index": 6,
          "Type": "Saldo"
         },
         {
          "Amount": -229,
          "Hodina": "2017-07-30T07:00:00",
          "Index": 7,
          "Type": "Saldo"
         },
         {
          "Amount": -403,
          "Hodina": "2017-07-30T08:00:00",
          "Index": 8,
          "Type": "Saldo"
         },
         {
          "Amount": -395,
          "Hodina": "2017-07-30T09:00:00",
          "Index": 9,
          "Type": "Saldo"
         },
         {
          "Amount": -402,
          "Hodina": "2017-07-30T10:00:00",
          "Index": 10,
          "Type": "Saldo"
         },
         {
          "Amount": -395,
          "Hodina": "2017-07-30T11:00:00",
          "Index": 11,
          "Type": "Saldo"
         },
         {
          "Amount": -402,
          "Hodina": "2017-07-30T12:00:00",
          "Index": 12,
          "Type": "Saldo"
         },
         {
          "Amount": -379,
          "Hodina": "2017-07-30T13:00:00",
          "Index": 13,
          "Type": "Saldo"
         },
         {
          "Amount": -319,
          "Hodina": "2017-07-30T14:00:00",
          "Index": 14,
          "Type": "Saldo"
         },
         {
          "Amount": -259,
          "Hodina": "2017-07-30T15:00:00",
          "Index": 15,
          "Type": "Saldo"
         },
         {
          "Amount": -138,
          "Hodina": "2017-07-30T16:00:00",
          "Index": 16,
          "Type": "Saldo"
         },
         {
          "Amount": -55,
          "Hodina": "2017-07-30T17:00:00",
          "Index": 17,
          "Type": "Saldo"
         },
         {
          "Amount": -1,
          "Hodina": "2017-07-30T18:00:00",
          "Index": 18,
          "Type": "Saldo"
         },
         {
          "Amount": 219,
          "Hodina": "2017-07-30T19:00:00",
          "Index": 19,
          "Type": "Saldo"
         },
         {
          "Amount": 28,
          "Hodina": "2017-07-30T20:00:00",
          "Index": 20,
          "Type": "Saldo"
         },
         {
          "Amount": 65,
          "Hodina": "2017-07-30T21:00:00",
          "Index": 21,
          "Type": "Saldo"
         },
         {
          "Amount": -102,
          "Hodina": "2017-07-30T22:00:00",
          "Index": 22,
          "Type": "Saldo"
         },
         {
          "Amount": -281,
          "Hodina": "2017-07-30T23:00:00",
          "Index": 23,
          "Type": "Saldo"
         },
         {
          "Amount": 2028,
          "Hodina": "2017-07-30T00:00:00",
          "Index": 24,
          "Type": "JE"
         },
         {
          "Amount": 2031,
          "Hodina": "2017-07-30T01:00:00",
          "Index": 25,
          "Type": "JE"
         },
         {
          "Amount": 2033,
          "Hodina": "2017-07-30T02:00:00",
          "Index": 26,
          "Type": "JE"
         },
         {
          "Amount": 2040,
          "Hodina": "2017-07-30T03:00:00",
          "Index": 27,
          "Type": "JE"
         },
         {
          "Amount": 2045,
          "Hodina": "2017-07-30T04:00:00",
          "Index": 28,
          "Type": "JE"
         },
         {
          "Amount": 2049,
          "Hodina": "2017-07-30T05:00:00",
          "Index": 29,
          "Type": "JE"
         },
         {
          "Amount": 2052,
          "Hodina": "2017-07-30T06:00:00",
          "Index": 30,
          "Type": "JE"
         },
         {
          "Amount": 2050,
          "Hodina": "2017-07-30T07:00:00",
          "Index": 31,
          "Type": "JE"
         },
         {
          "Amount": 2047,
          "Hodina": "2017-07-30T08:00:00",
          "Index": 32,
          "Type": "JE"
         },
         {
          "Amount": 2042,
          "Hodina": "2017-07-30T09:00:00",
          "Index": 33,
          "Type": "JE"
         },
         {
          "Amount": 2035,
          "Hodina": "2017-07-30T10:00:00",
          "Index": 34,
          "Type": "JE"
         },
         {
          "Amount": 2028,
          "Hodina": "2017-07-30T11:00:00",
          "Index": 35,
          "Type": "JE"
         },
         {
          "Amount": 2024,
          "Hodina": "2017-07-30T12:00:00",
          "Index": 36,
          "Type": "JE"
         },
         {
          "Amount": 2017,
          "Hodina": "2017-07-30T13:00:00",
          "Index": 37,
          "Type": "JE"
         },
         {
          "Amount": 2014,
          "Hodina": "2017-07-30T14:00:00",
          "Index": 38,
          "Type": "JE"
         },
         {
          "Amount": 2015,
          "Hodina": "2017-07-30T15:00:00",
          "Index": 39,
          "Type": "JE"
         },
         {
          "Amount": 2014,
          "Hodina": "2017-07-30T16:00:00",
          "Index": 40,
          "Type": "JE"
         },
         {
          "Amount": 2011,
          "Hodina": "2017-07-30T17:00:00",
          "Index": 41,
          "Type": "JE"
         },
         {
          "Amount": 2012,
          "Hodina": "2017-07-30T18:00:00",
          "Index": 42,
          "Type": "JE"
         },
         {
          "Amount": 2017,
          "Hodina": "2017-07-30T19:00:00",
          "Index": 43,
          "Type": "JE"
         },
         {
          "Amount": 2018,
          "Hodina": "2017-07-30T20:00:00",
          "Index": 44,
          "Type": "JE"
         },
         {
          "Amount": 2018,
          "Hodina": "2017-07-30T21:00:00",
          "Index": 45,
          "Type": "JE"
         },
         {
          "Amount": 2022,
          "Hodina": "2017-07-30T22:00:00",
          "Index": 46,
          "Type": "JE"
         },
         {
          "Amount": 2025,
          "Hodina": "2017-07-30T23:00:00",
          "Index": 47,
          "Type": "JE"
         },
         {
          "Amount": 3250,
          "Hodina": "2017-07-30T00:00:00",
          "Index": 48,
          "Type": "PE"
         },
         {
          "Amount": 2991,
          "Hodina": "2017-07-30T01:00:00",
          "Index": 49,
          "Type": "PE"
         },
         {
          "Amount": 2856,
          "Hodina": "2017-07-30T02:00:00",
          "Index": 50,
          "Type": "PE"
         },
         {
          "Amount": 2843,
          "Hodina": "2017-07-30T03:00:00",
          "Index": 51,
          "Type": "PE"
         },
         {
          "Amount": 2839,
          "Hodina": "2017-07-30T04:00:00",
          "Index": 52,
          "Type": "PE"
         },
         {
          "Amount": 2809,
          "Hodina": "2017-07-30T05:00:00",
          "Index": 53,
          "Type": "PE"
         },
         {
          "Amount": 3003,
          "Hodina": "2017-07-30T06:00:00",
          "Index": 54,
          "Type": "PE"
         },
         {
          "Amount": 3104,
          "Hodina": "2017-07-30T07:00:00",
          "Index": 55,
          "Type": "PE"
         },
         {
          "Amount": 2968,
          "Hodina": "2017-07-30T08:00:00",
          "Index": 56,
          "Type": "PE"
         },
         {
          "Amount": 2967,
          "Hodina": "2017-07-30T09:00:00",
          "Index": 57,
          "Type": "PE"
         },
         {
          "Amount": 2940,
          "Hodina": "2017-07-30T10:00:00",
          "Index": 58,
          "Type": "PE"
         },
         {
          "Amount": 3000,
          "Hodina": "2017-07-30T11:00:00",
          "Index": 59,
          "Type": "PE"
         },
         {
          "Amount": 3049,
          "Hodina": "2017-07-30T12:00:00",
          "Index": 60,
          "Type": "PE"
         },
         {
          "Amount": 3119,
          "Hodina": "2017-07-30T13:00:00",
          "Index": 61,
          "Type": "PE"
         },
         {
          "Amount": 3179,
          "Hodina": "2017-07-30T14:00:00",
          "Index": 62,
          "Type": "PE"
         },
         {
          "Amount": 3192,
          "Hodina": "2017-07-30T15:00:00",
          "Index": 63,
          "Type": "PE"
         },
         {
          "Amount": 3200,
          "Hodina": "2017-07-30T16:00:00",
          "Index": 64,
          "Type": "PE"
         },
         {
          "Amount": 3111,
          "Hodina": "2017-07-30T17:00:00",
          "Index": 65,
          "Type": "PE"
         },
         {
          "Amount": 3211,
          "Hodina": "2017-07-30T18:00:00",
          "Index": 66,
          "Type": "PE"
         },
         {
          "Amount": 3216,
          "Hodina": "2017-07-30T19:00:00",
          "Index": 67,
          "Type": "PE"
         },
         {
          "Amount": 3220,
          "Hodina": "2017-07-30T20:00:00",
          "Index": 68,
          "Type": "PE"
         },
         {
          "Amount": 3259,
          "Hodina": "2017-07-30T21:00:00",
          "Index": 69,
          "Type": "PE"
         },
         {
          "Amount": 3196,
          "Hodina": "2017-07-30T22:00:00",
          "Index": 70,
          "Type": "PE"
         },
         {
          "Amount": 3210,
          "Hodina": "2017-07-30T23:00:00",
          "Index": 71,
          "Type": "PE"
         },
         {
          "Amount": 559,
          "Hodina": "2017-07-30T00:00:00",
          "Index": 72,
          "Type": "PPE + PSE"
         },
         {
          "Amount": 559,
          "Hodina": "2017-07-30T01:00:00",
          "Index": 73,
          "Type": "PPE + PSE"
         },
         {
          "Amount": 558,
          "Hodina": "2017-07-30T02:00:00",
          "Index": 74,
          "Type": "PPE + PSE"
         },
         {
          "Amount": 555,
          "Hodina": "2017-07-30T03:00:00",
          "Index": 75,
          "Type": "PPE + PSE"
         },
         {
          "Amount": 555,
          "Hodina": "2017-07-30T04:00:00",
          "Index": 76,
          "Type": "PPE + PSE"
         },
         {
          "Amount": 549,
          "Hodina": "2017-07-30T05:00:00",
          "Index": 77,
          "Type": "PPE + PSE"
         },
         {
          "Amount": 563,
          "Hodina": "2017-07-30T06:00:00",
          "Index": 78,
          "Type": "PPE + PSE"
         },
         {
          "Amount": 572,
          "Hodina": "2017-07-30T07:00:00",
          "Index": 79,
          "Type": "PPE + PSE"
         },
         {
          "Amount": 593,
          "Hodina": "2017-07-30T08:00:00",
          "Index": 80,
          "Type": "PPE + PSE"
         },
         {
          "Amount": 588,
          "Hodina": "2017-07-30T09:00:00",
          "Index": 81,
          "Type": "PPE + PSE"
         },
         {
          "Amount": 577,
          "Hodina": "2017-07-30T10:00:00",
          "Index": 82,
          "Type": "PPE + PSE"
         },
         {
          "Amount": 566,
          "Hodina": "2017-07-30T11:00:00",
          "Index": 83,
          "Type": "PPE + PSE"
         },
         {
          "Amount": 560,
          "Hodina": "2017-07-30T12:00:00",
          "Index": 84,
          "Type": "PPE + PSE"
         },
         {
          "Amount": 558,
          "Hodina": "2017-07-30T13:00:00",
          "Index": 85,
          "Type": "PPE + PSE"
         },
         {
          "Amount": 556,
          "Hodina": "2017-07-30T14:00:00",
          "Index": 86,
          "Type": "PPE + PSE"
         },
         {
          "Amount": 567,
          "Hodina": "2017-07-30T15:00:00",
          "Index": 87,
          "Type": "PPE + PSE"
         },
         {
          "Amount": 569,
          "Hodina": "2017-07-30T16:00:00",
          "Index": 88,
          "Type": "PPE + PSE"
         },
         {
          "Amount": 580,
          "Hodina": "2017-07-30T17:00:00",
          "Index": 89,
          "Type": "PPE + PSE"
         },
         {
          "Amount": 588,
          "Hodina": "2017-07-30T18:00:00",
          "Index": 90,
          "Type": "PPE + PSE"
         },
         {
          "Amount": 608,
          "Hodina": "2017-07-30T19:00:00",
          "Index": 91,
          "Type": "PPE + PSE"
         },
         {
          "Amount": 617,
          "Hodina": "2017-07-30T20:00:00",
          "Index": 92,
          "Type": "PPE + PSE"
         },
         {
          "Amount": 615,
          "Hodina": "2017-07-30T21:00:00",
          "Index": 93,
          "Type": "PPE + PSE"
         },
         {
          "Amount": 609,
          "Hodina": "2017-07-30T22:00:00",
          "Index": 94,
          "Type": "PPE + PSE"
         },
         {
          "Amount": 581,
          "Hodina": "2017-07-30T23:00:00",
          "Index": 95,
          "Type": "PPE + PSE"
         },
         {
          "Amount": 131,
          "Hodina": "2017-07-30T00:00:00",
          "Index": 96,
          "Type": "VE"
         },
         {
          "Amount": 130,
          "Hodina": "2017-07-30T01:00:00",
          "Index": 97,
          "Type": "VE"
         },
         {
          "Amount": 126,
          "Hodina": "2017-07-30T02:00:00",
          "Index": 98,
          "Type": "VE"
         },
         {
          "Amount": 126,
          "Hodina": "2017-07-30T03:00:00",
          "Index": 99,
          "Type": "VE"
         },
         {
          "Amount": 126,
          "Hodina": "2017-07-30T04:00:00",
          "Index": 100,
          "Type": "VE"
         },
         {
          "Amount": 126,
          "Hodina": "2017-07-30T05:00:00",
          "Index": 101,
          "Type": "VE"
         },
         {
          "Amount": 132,
          "Hodina": "2017-07-30T06:00:00",
          "Index": 102,
          "Type": "VE"
         },
         {
          "Amount": 145,
          "Hodina": "2017-07-30T07:00:00",
          "Index": 103,
          "Type": "VE"
         },
         {
          "Amount": 144,
          "Hodina": "2017-07-30T08:00:00",
          "Index": 104,
          "Type": "VE"
         },
         {
          "Amount": 172,
          "Hodina": "2017-07-30T09:00:00",
          "Index": 105,
          "Type": "VE"
         },
         {
          "Amount": 175,
          "Hodina": "2017-07-30T10:00:00",
          "Index": 106,
          "Type": "VE"
         },
         {
          "Amount": 190,
          "Hodina": "2017-07-30T11:00:00",
          "Index": 107,
          "Type": "VE"
         },
         {
          "Amount": 132,
          "Hodina": "2017-07-30T12:00:00",
          "Index": 108,
          "Type": "VE"
         },
         {
          "Amount": 130,
          "Hodina": "2017-07-30T13:00:00",
          "Index": 109,
          "Type": "VE"
         },
         {
          "Amount": 131,
          "Hodina": "2017-07-30T14:00:00",
          "Index": 110,
          "Type": "VE"
         },
         {
          "Amount": 136,
          "Hodina": "2017-07-30T15:00:00",
          "Index": 111,
          "Type": "VE"
         },
         {
          "Amount": 140,
          "Hodina": "2017-07-30T16:00:00",
          "Index": 112,
          "Type": "VE"
         },
         {
          "Amount": 132,
          "Hodina": "2017-07-30T17:00:00",
          "Index": 113,
          "Type": "VE"
         },
         {
          "Amount": 170,
          "Hodina": "2017-07-30T18:00:00",
          "Index": 114,
          "Type": "VE"
         },
         {
          "Amount": 132,
          "Hodina": "2017-07-30T19:00:00",
          "Index": 115,
          "Type": "VE"
         },
         {
          "Amount": 266,
          "Hodina": "2017-07-30T20:00:00",
          "Index": 116,
          "Type": "VE"
         },
         {
          "Amount": 273,
          "Hodina": "2017-07-30T21:00:00",
          "Index": 117,
          "Type": "VE"
         },
         {
          "Amount": 241,
          "Hodina": "2017-07-30T22:00:00",
          "Index": 118,
          "Type": "VE"
         },
         {
          "Amount": 240,
          "Hodina": "2017-07-30T23:00:00",
          "Index": 119,
          "Type": "VE"
         },
         {
          "Amount": 0,
          "Hodina": "2017-07-30T00:00:00",
          "Index": 120,
          "Type": "PVE"
         },
         {
          "Amount": 0,
          "Hodina": "2017-07-30T01:00:00",
          "Index": 121,
          "Type": "PVE"
         },
         {
          "Amount": 0,
          "Hodina": "2017-07-30T02:00:00",
          "Index": 122,
          "Type": "PVE"
         },
         {
          "Amount": 0,
          "Hodina": "2017-07-30T03:00:00",
          "Index": 123,
          "Type": "PVE"
         },
         {
          "Amount": 0,
          "Hodina": "2017-07-30T04:00:00",
          "Index": 124,
          "Type": "PVE"
         },
         {
          "Amount": 0,
          "Hodina": "2017-07-30T05:00:00",
          "Index": 125,
          "Type": "PVE"
         },
         {
          "Amount": 0,
          "Hodina": "2017-07-30T06:00:00",
          "Index": 126,
          "Type": "PVE"
         },
         {
          "Amount": 0,
          "Hodina": "2017-07-30T07:00:00",
          "Index": 127,
          "Type": "PVE"
         },
         {
          "Amount": 0,
          "Hodina": "2017-07-30T08:00:00",
          "Index": 128,
          "Type": "PVE"
         },
         {
          "Amount": 19,
          "Hodina": "2017-07-30T09:00:00",
          "Index": 129,
          "Type": "PVE"
         },
         {
          "Amount": 164,
          "Hodina": "2017-07-30T10:00:00",
          "Index": 130,
          "Type": "PVE"
         },
         {
          "Amount": 158,
          "Hodina": "2017-07-30T11:00:00",
          "Index": 131,
          "Type": "PVE"
         },
         {
          "Amount": 0,
          "Hodina": "2017-07-30T12:00:00",
          "Index": 132,
          "Type": "PVE"
         },
         {
          "Amount": 0,
          "Hodina": "2017-07-30T13:00:00",
          "Index": 133,
          "Type": "PVE"
         },
         {
          "Amount": 0,
          "Hodina": "2017-07-30T14:00:00",
          "Index": 134,
          "Type": "PVE"
         },
         {
          "Amount": 0,
          "Hodina": "2017-07-30T15:00:00",
          "Index": 135,
          "Type": "PVE"
         },
         {
          "Amount": 139,
          "Hodina": "2017-07-30T16:00:00",
          "Index": 136,
          "Type": "PVE"
         },
         {
          "Amount": 235,
          "Hodina": "2017-07-30T17:00:00",
          "Index": 137,
          "Type": "PVE"
         },
         {
          "Amount": 327,
          "Hodina": "2017-07-30T18:00:00",
          "Index": 138,
          "Type": "PVE"
         },
         {
          "Amount": 218,
          "Hodina": "2017-07-30T19:00:00",
          "Index": 139,
          "Type": "PVE"
         },
         {
          "Amount": 355,
          "Hodina": "2017-07-30T20:00:00",
          "Index": 140,
          "Type": "PVE"
         },
         {
          "Amount": 380,
          "Hodina": "2017-07-30T21:00:00",
          "Index": 141,
          "Type": "PVE"
         },
         {
          "Amount": 439,
          "Hodina": "2017-07-30T22:00:00",
          "Index": 142,
          "Type": "PVE"
         },
         {
          "Amount": 294,
          "Hodina": "2017-07-30T23:00:00",
          "Index": 143,
          "Type": "PVE"
         },
         {
          "Amount": 0,
          "Hodina": "2017-07-30T00:00:00",
          "Index": 144,
          "Type": "FVE"
         },
         {
          "Amount": 0,
          "Hodina": "2017-07-30T01:00:00",
          "Index": 145,
          "Type": "FVE"
         },
         {
          "Amount": 0,
          "Hodina": "2017-07-30T02:00:00",
          "Index": 146,
          "Type": "FVE"
         },
         {
          "Amount": 0,
          "Hodina": "2017-07-30T03:00:00",
          "Index": 147,
          "Type": "FVE"
         },
         {
          "Amount": 1,
          "Hodina": "2017-07-30T04:00:00",
          "Index": 148,
          "Type": "FVE"
         },
         {
          "Amount": 3,
          "Hodina": "2017-07-30T05:00:00",
          "Index": 149,
          "Type": "FVE"
         },
         {
          "Amount": 50,
          "Hodina": "2017-07-30T06:00:00",
          "Index": 150,
          "Type": "FVE"
         },
         {
          "Amount": 284,
          "Hodina": "2017-07-30T07:00:00",
          "Index": 151,
          "Type": "FVE"
         },
         {
          "Amount": 679,
          "Hodina": "2017-07-30T08:00:00",
          "Index": 152,
          "Type": "FVE"
         },
         {
          "Amount": 1019,
          "Hodina": "2017-07-30T09:00:00",
          "Index": 153,
          "Type": "FVE"
         },
         {
          "Amount": 1264,
          "Hodina": "2017-07-30T10:00:00",
          "Index": 154,
          "Type": "FVE"
         },
         {
          "Amount": 1417,
          "Hodina": "2017-07-30T11:00:00",
          "Index": 155,
          "Type": "FVE"
         },
         {
          "Amount": 1484,
          "Hodina": "2017-07-30T12:00:00",
          "Index": 156,
          "Type": "FVE"
         },
         {
          "Amount": 1447,
          "Hodina": "2017-07-30T13:00:00",
          "Index": 157,
          "Type": "FVE"
         },
         {
          "Amount": 1282,
          "Hodina": "2017-07-30T14:00:00",
          "Index": 158,
          "Type": "FVE"
         },
         {
          "Amount": 1101,
          "Hodina": "2017-07-30T15:00:00",
          "Index": 159,
          "Type": "FVE"
         },
         {
          "Amount": 776,
          "Hodina": "2017-07-30T16:00:00",
          "Index": 160,
          "Type": "FVE"
         },
         {
          "Amount": 471,
          "Hodina": "2017-07-30T17:00:00",
          "Index": 161,
          "Type": "FVE"
         },
         {
          "Amount": 204,
          "Hodina": "2017-07-30T18:00:00",
          "Index": 162,
          "Type": "FVE"
         },
         {
          "Amount": 63,
          "Hodina": "2017-07-30T19:00:00",
          "Index": 163,
          "Type": "FVE"
         },
         {
          "Amount": 8,
          "Hodina": "2017-07-30T20:00:00",
          "Index": 164,
          "Type": "FVE"
         },
         {
          "Amount": 1,
          "Hodina": "2017-07-30T21:00:00",
          "Index": 165,
          "Type": "FVE"
         },
         {
          "Amount": 0,
          "Hodina": "2017-07-30T22:00:00",
          "Index": 166,
          "Type": "FVE"
         },
         {
          "Amount": 0,
          "Hodina": "2017-07-30T23:00:00",
          "Index": 167,
          "Type": "FVE"
         },
         {
          "Amount": 23,
          "Hodina": "2017-07-30T00:00:00",
          "Index": 168,
          "Type": "VTE"
         },
         {
          "Amount": 20,
          "Hodina": "2017-07-30T01:00:00",
          "Index": 169,
          "Type": "VTE"
         },
         {
          "Amount": 26,
          "Hodina": "2017-07-30T02:00:00",
          "Index": 170,
          "Type": "VTE"
         },
         {
          "Amount": 34,
          "Hodina": "2017-07-30T03:00:00",
          "Index": 171,
          "Type": "VTE"
         },
         {
          "Amount": 32,
          "Hodina": "2017-07-30T04:00:00",
          "Index": 172,
          "Type": "VTE"
         },
         {
          "Amount": 35,
          "Hodina": "2017-07-30T05:00:00",
          "Index": 173,
          "Type": "VTE"
         },
         {
          "Amount": 42,
          "Hodina": "2017-07-30T06:00:00",
          "Index": 174,
          "Type": "VTE"
         },
         {
          "Amount": 46,
          "Hodina": "2017-07-30T07:00:00",
          "Index": 175,
          "Type": "VTE"
         },
         {
          "Amount": 38,
          "Hodina": "2017-07-30T08:00:00",
          "Index": 176,
          "Type": "VTE"
         },
         {
          "Amount": 40,
          "Hodina": "2017-07-30T09:00:00",
          "Index": 177,
          "Type": "VTE"
         },
         {
          "Amount": 46,
          "Hodina": "2017-07-30T10:00:00",
          "Index": 178,
          "Type": "VTE"
         },
         {
          "Amount": 46,
          "Hodina": "2017-07-30T11:00:00",
          "Index": 179,
          "Type": "VTE"
         },
         {
          "Amount": 54,
          "Hodina": "2017-07-30T12:00:00",
          "Index": 180,
          "Type": "VTE"
         },
         {
          "Amount": 52,
          "Hodina": "2017-07-30T13:00:00",
          "Index": 181,
          "Type": "VTE"
         },
         {
          "Amount": 60,
          "Hodina": "2017-07-30T14:00:00",
          "Index": 182,
          "Type": "VTE"
         },
         {
          "Amount": 59,
          "Hodina": "2017-07-30T15:00:00",
          "Index": 183,
          "Type": "VTE"
         },
         {
          "Amount": 44,
          "Hodina": "2017-07-30T16:00:00",
          "Index": 184,
          "Type": "VTE"
         },
         {
          "Amount": 45,
          "Hodina": "2017-07-30T17:00:00",
          "Index": 185,
          "Type": "VTE"
         },
         {
          "Amount": 45,
          "Hodina": "2017-07-30T18:00:00",
          "Index": 186,
          "Type": "VTE"
         },
         {
          "Amount": 62,
          "Hodina": "2017-07-30T19:00:00",
          "Index": 187,
          "Type": "VTE"
         },
         {
          "Amount": 49,
          "Hodina": "2017-07-30T20:00:00",
          "Index": 188,
          "Type": "VTE"
         },
         {
          "Amount": 50,
          "Hodina": "2017-07-30T21:00:00",
          "Index": 189,
          "Type": "VTE"
         },
         {
          "Amount": 59,
          "Hodina": "2017-07-30T22:00:00",
          "Index": 190,
          "Type": "VTE"
         },
         {
          "Amount": 71,
          "Hodina": "2017-07-30T23:00:00",
          "Index": 191,
          "Type": "VTE"
         }
        ]
       },
       "hconcat": [
        {
         "data": {
          "name": "data-3c234a3700e940903a0e72c8e31f2a9e"
         },
         "encoding": {
          "color": {
           "condition": {
            "field": "Type",
            "legend": null,
            "scale": {
             "domain": [
              "JE",
              "PE",
              "PPE + PSE",
              "PVE",
              "Saldo",
              "VE",
              "VTE",
              "FVE"
             ],
             "range": [
              "#c9042e",
              "#f96909",
              "#08a00a",
              "#c605c3",
              "#636163",
              "#1e05ad",
              "#00bded",
              "#fcd40a"
             ]
            },
            "selection": "selector019",
            "type": "nominal"
           },
           "value": "lightgray"
          },
          "order": {
           "field": "Index",
           "sort": "ascending",
           "type": "quantitative"
          },
          "tooltip": [
           {
            "field": "Amount",
            "type": "quantitative"
           },
           {
            "field": "Type",
            "type": "nominal"
           }
          ],
          "x": {
           "field": "Hodina",
           "timeUnit": "hoursminutes",
           "title": "Hodina",
           "type": "ordinal"
          },
          "y": {
           "aggregate": "sum",
           "field": "Amount",
           "title": "Zatížení",
           "type": "quantitative"
          }
         },
         "mark": "bar"
        },
        {
         "data": {
          "name": "data-3c234a3700e940903a0e72c8e31f2a9e"
         },
         "encoding": {
          "color": {
           "condition": {
            "field": "Type",
            "legend": null,
            "scale": {
             "domain": [
              "JE",
              "PE",
              "PPE + PSE",
              "PVE",
              "Saldo",
              "VE",
              "VTE",
              "FVE"
             ],
             "range": [
              "#c9042e",
              "#f96909",
              "#08a00a",
              "#c605c3",
              "#636163",
              "#1e05ad",
              "#00bded",
              "#fcd40a"
             ]
            },
            "selection": "selector019",
            "type": "nominal"
           },
           "value": "lightgray"
          },
          "y": {
           "axis": {
            "orient": "right"
           },
           "field": "Type",
           "type": "nominal"
          }
         },
         "mark": "bar",
         "selection": {
          "selector019": {
           "empty": "all",
           "fields": [
            "Type"
           ],
           "on": "click",
           "resolve": "global",
           "toggle": "event.shiftKey",
           "type": "multi"
          }
         }
        }
       ]
      },
      "image/png": "[encoded data removed]",
      "text/plain": [
       "<VegaLite 2 object>\n",
       "\n",
       "If you see this message, it means the renderer has not been properly enabled\n",
       "for the frontend that you are using. For more information, see\n",
       "https://altair-viz.github.io/user_guide/troubleshooting.html\n"
      ]
     },
     "execution_count": 499,
     "metadata": {},
     "output_type": "execute_result"
    }
   ],
   "source": [
    "chart | legend"
   ]
  },
  {
   "cell_type": "code",
   "execution_count": null,
   "metadata": {},
   "outputs": [],
   "source": []
  }
 ],
 "metadata": {
  "kernelspec": {
   "display_name": "Python 3",
   "language": "python",
   "name": "python3"
  },
  "language_info": {
   "codemirror_mode": {
    "name": "ipython",
    "version": 3
   },
   "file_extension": ".py",
   "mimetype": "text/x-python",
   "name": "python",
   "nbconvert_exporter": "python",
   "pygments_lexer": "ipython3",
   "version": "3.6.6"
  }
 },
 "nbformat": 4,
 "nbformat_minor": 2
}
